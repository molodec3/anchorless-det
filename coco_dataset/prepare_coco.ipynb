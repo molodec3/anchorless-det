{
 "cells": [
  {
   "cell_type": "code",
   "execution_count": 1,
   "id": "f8a6d178",
   "metadata": {
    "cellId": "3qxa0mwmllcpttlac85p"
   },
   "outputs": [],
   "source": [
    "#!:bash\n",
    "mkdir coco\n",
    "cd coco\n",
    "mkdir images\n",
    "cd images\n",
    "\n",
    "wget http://images.cocodataset.org/zips/train2017.zip\n",
    "wget http://images.cocodataset.org/zips/val2017.zip\n",
    "wget http://images.cocodataset.org/zips/test2017.zip\n",
    "wget http://images.cocodataset.org/zips/unlabeled2017.zip"
   ]
  },
  {
   "cell_type": "code",
   "execution_count": null,
   "id": "40cd0231",
   "metadata": {
    "cellId": "ufrjo1vthodqu19tmpbt8",
    "collapsed": true,
    "execution_id": "80f59ab1-3e38-40ff-b924-ee3adf23b701",
    "jupyter": {
     "outputs_hidden": true
    }
   },
   "outputs": [],
   "source": [
    "#!:bash\n",
    "cd coco\n",
    "cd images\n",
    "\n",
    "unzip train2017.zip\n",
    "unzip val2017.zip\n",
    "unzip test2017.zip\n",
    "unzip unlabeled2017.zip\n",
    "\n",
    "cd ../\n",
    "wget http://images.cocodataset.org/annotations/annotations_trainval2017.zip\n",
    "wget http://images.cocodataset.org/annotations/stuff_annotations_trainval2017.zip\n",
    "wget http://images.cocodataset.org/annotations/image_info_test2017.zip\n",
    "wget http://images.cocodataset.org/annotations/image_info_unlabeled2017.zip\n",
    "\n",
    "unzip annotations_trainval2017.zip\n",
    "unzip stuff_annotations_trainval2017.zip\n",
    "unzip image_info_test2017.zip\n",
    "unzip image_info_unlabeled2017.zip"
   ]
  },
  {
   "cell_type": "code",
   "execution_count": 3,
   "id": "5a392812",
   "metadata": {
    "cellId": "jnkvmg90algkbtnfv02rm"
   },
   "outputs": [],
   "source": [
    "#!:bash\n",
    "wget -c https://s3-us-west-2.amazonaws.com/dl.fbaipublicfiles.com/LVIS/lvis_v1_val.json.zip\n",
    "unzip lvis_v1_val.json.zip"
   ]
  },
  {
   "cell_type": "code",
   "execution_count": 4,
   "id": "97431920",
   "metadata": {
    "cellId": "yewyl8djywhuuh1oxxzqrk"
   },
   "outputs": [],
   "source": [
    "#!:bash\n",
    "wget -c https://s3-us-west-2.amazonaws.com/dl.fbaipublicfiles.com/LVIS/lvis_v1_train.json.zip\n",
    "unzip lvis_v1_train.json.zip"
   ]
  },
  {
   "cell_type": "code",
   "execution_count": 72,
   "id": "a1c162a7",
   "metadata": {
    "cellId": "5ndta5p8y4uqoqsm4m8ffl"
   },
   "outputs": [],
   "source": [
    "#!L\n",
    "import json\n",
    "from tqdm import tqdm"
   ]
  },
  {
   "cell_type": "code",
   "execution_count": 75,
   "id": "4faa865a",
   "metadata": {
    "cellId": "z0gzgux6hegluezrwrms"
   },
   "outputs": [],
   "source": [
    "#!L\n",
    "def parse_coco(inp_file, out_file, syn=False):\n",
    "    with open(inp_file, 'r') as f:\n",
    "        annotations = json.loads(f.read())\n",
    "\n",
    "    img = annotations['images']\n",
    "    ann = annotations['annotations']\n",
    "    cat = annotations['categories']\n",
    "    del annotations\n",
    "\n",
    "    img_bboxid  = dict()  # img: bboxes ids\n",
    "    img_bbox = dict()  # img: bboxes\n",
    "    img_name = dict()  # img: filename\n",
    "    bboxid_bbox = dict()  # bboxid: bbox\n",
    "    bboxid_catid = dict()  # bbox id: cat id \n",
    "    catid_catname = dict()  # cat id: cat name\n",
    "\n",
    "    for annotation in tqdm(ann):\n",
    "        if img_bboxid.get(int(annotation['image_id'])) is None:\n",
    "            img_bboxid[int(annotation['image_id'])] = [int(annotation['id'])]\n",
    "            img_bbox[int(annotation['image_id'])] = [annotation['bbox']]\n",
    "        else:\n",
    "            img_bboxid[int(annotation['image_id'])].append(int(annotation['id']))\n",
    "            img_bbox[int(annotation['image_id'])].append(annotation['bbox'])\n",
    "        bboxid_bbox[int(annotation['id'])] = annotation['bbox']\n",
    "        bboxid_catid[int(annotation['id'])] = int(annotation['category_id'])\n",
    "\n",
    "    for image in tqdm(img):\n",
    "        img_name[int(image['id'])] = image['file_name'].split('/')[-1]\n",
    "\n",
    "    for category in tqdm(cat):\n",
    "        if syn:\n",
    "            catid_catname[int(category['id'])] = category['synonyms']\n",
    "        else:\n",
    "            catid_catname[int(category['id'])] = category['name'] \n",
    "\n",
    "    with open(out_file, 'w') as f:\n",
    "        f.write(json.dumps({\n",
    "            'img_bboxid': img_bboxid, \n",
    "            'img_bbox': img_bbox, \n",
    "            'bboxid_bbox': bboxid_bbox, \n",
    "            'bboxid_catid': bboxid_catid,\n",
    "            'img_name': img_name,\n",
    "            'catid_catname': catid_catname\n",
    "        }))"
   ]
  },
  {
   "cell_type": "code",
   "execution_count": 77,
   "id": "7b3f8555",
   "metadata": {
    "cellId": "3oke61oiare8v67nwggv"
   },
   "outputs": [],
   "source": [
    "#!L\n",
    "parse_coco('./pascal_trainval0712.json', './annotations_val_pascal0712.json')"
   ]
  },
  {
   "cell_type": "code",
   "execution_count": 71,
   "id": "28e5310d",
   "metadata": {
    "cellId": "ni8ydr4vpudbuvs124mm9"
   },
   "outputs": [],
   "source": [
    "#!L\n",
    "parse_coco('./coco/annotations/instances_val2017.json', './annotations_val_coco.json')"
   ]
  },
  {
   "cell_type": "code",
   "execution_count": 65,
   "id": "4bd686f9",
   "metadata": {
    "cellId": "d7sh1wr99upq7yk3gwlli"
   },
   "outputs": [],
   "source": [
    "parse_coco('./coco/annotations/instances_train2017.json', './annotations_train_coco.json')"
   ]
  },
  {
   "cell_type": "code",
   "execution_count": 66,
   "id": "c59b1b27",
   "metadata": {
    "cellId": "kkk4g4u4j4l86rvjazqn6g"
   },
   "outputs": [],
   "source": [
    "parse_coco('./lvis_v1_val.json', './annotations_val_lvis.json', syn=True)"
   ]
  },
  {
   "cell_type": "code",
   "execution_count": 67,
   "id": "ed8b035b",
   "metadata": {
    "cellId": "jx5fdv2cqqn2rlb4abqqtw"
   },
   "outputs": [],
   "source": [
    "parse_coco('./lvis_v1_train.json', './annotations_train_lvis.json', syn=True)"
   ]
  },
  {
   "cell_type": "code",
   "execution_count": 46,
   "id": "0892f0df",
   "metadata": {
    "cellId": "hzxqun6hokoyoep30k5og"
   },
   "outputs": [],
   "source": [
    "import matplotlib.pyplot as plt\n",
    "from PIL import Image"
   ]
  },
  {
   "cell_type": "code",
   "execution_count": 39,
   "id": "7e822107",
   "metadata": {
    "cellId": "q7yrnojd7q1m78mpm11"
   },
   "outputs": [],
   "source": [
    "with open('./annotations_val_coco.json', 'r') as f:\n",
    "    annotations = json.loads(f.read())"
   ]
  },
  {
   "cell_type": "code",
   "execution_count": 68,
   "id": "d1b4aa90",
   "metadata": {
    "cellId": "7c5qvjuy0q6hmsp7nsmqa"
   },
   "outputs": [],
   "source": [
    "plt.imshow(Image.open(f\"./coco/images/val2017/{annotations['img_name']['4134']}\"))\n",
    "bboxes = np.array(annotations['img_bbox']['4134'])\n",
    "for x1, y1, x2, y2 in bboxes:\n",
    "    plt.plot([x1, x1 + x2, x1 + x2, x1, x1], [y1, y1, y1 + y2, y1 + y2, y1])"
   ]
  },
  {
   "cell_type": "code",
   "execution_count": null,
   "id": "b5786dc0",
   "metadata": {
    "cellId": "2x2iotp27f1t6yl19oetkj"
   },
   "outputs": [],
   "source": []
  }
 ],
 "metadata": {
  "kernelspec": {
   "display_name": "Yandex DataSphere Kernel",
   "language": "python",
   "name": "python3"
  },
  "language_info": {
   "codemirror_mode": {
    "name": "ipython",
    "version": 3
   },
   "file_extension": ".py",
   "mimetype": "text/x-python",
   "name": "python",
   "nbconvert_exporter": "python",
   "pygments_lexer": "ipython3",
   "version": "3.7.7"
  },
  "notebookId": "eaee6b98-42f0-41ad-9abd-c1c7175c5cb2",
  "notebookPath": "anchorless_det/coco_dataset/prepare_coco.ipynb"
 },
 "nbformat": 4,
 "nbformat_minor": 5
}
